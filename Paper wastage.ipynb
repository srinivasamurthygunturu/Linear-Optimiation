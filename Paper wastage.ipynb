{
 "cells": [
  {
   "cell_type": "code",
   "execution_count": 10,
   "id": "1a7ce71d",
   "metadata": {},
   "outputs": [],
   "source": [
    "from docplex.mp.model import Model\n"
   ]
  },
  {
   "cell_type": "code",
   "execution_count": 39,
   "id": "213bb4da",
   "metadata": {},
   "outputs": [],
   "source": [
    "m = Model(name='Wastage1')\n",
    "\n",
    "x1 = m.continuous_var(name=\"x1\")\n",
    "x2 = m.continuous_var(name=\"x2\")\n",
    "x3 = m.continuous_var(name=\"x3\")\n",
    "x4 = m.continuous_var(name=\"x4\")\n",
    "x5 = m.continuous_var(name=\"x5\")\n",
    "x6 = m.continuous_var(name=\"x6\")\n",
    "x7 = m.continuous_var(name=\"x7\")\n",
    "\n",
    "\n",
    "c1 = m.add_constraint(6*x1+ 2*x3 +1*x5+ 1*x6+ 4*x7 >= 1000, ctname=\"const1\")\n",
    "c2 = m.add_constraint(4*x2+ 1*x4 +3*x5+ 2*x6>=2000, ctname=\"const2\")\n",
    "c3 = m.add_constraint(2*x3+ 2*x4+ 1*x6+ 1*x7>=4000, ctname=\"const3\")\n",
    "\n",
    "\"\"\"c5 = m.add_constraint(x1>=0,ctname=\"const5\")\n",
    "c6 = m.add_constraint(x2>=0,ctname=\"const6\")\n",
    "c7 = m.add_constraint(x3>=0,ctname=\"const7\")\n",
    "c8 = m.add_constraint(x4>=0,ctname=\"const8\")\n",
    "c9 = m.add_constraint(x5>=0,ctname=\"const9\")\n",
    "c10 = m.add_constraint(x6>=0,ctname=\"const10\")\n",
    "c11 = m.add_constraint(x7>=0,ctname=\"const11\")\"\"\"\n",
    "\n",
    "\n",
    "\n",
    "#m.set_objective(\"min\",x1+x2+x3+x4+x5+x6+x7)\n",
    "m.set_objective(\"min\",x1+0.5*x4+x5+0.5*x7)\n",
    "\n"
   ]
  },
  {
   "cell_type": "code",
   "execution_count": 40,
   "id": "e46f7d17",
   "metadata": {},
   "outputs": [
    {
     "name": "stdout",
     "output_type": "stream",
     "text": [
      "Model: Wastage1\n",
      " - number of variables: 7\n",
      "   - binary=0, integer=0, continuous=7\n",
      " - number of constraints: 3\n",
      "   - linear=3\n",
      " - parameters: defaults\n",
      " - objective: minimize\n",
      " - problem type is: LP\n"
     ]
    }
   ],
   "source": [
    "m.print_information()\n",
    "\n"
   ]
  },
  {
   "cell_type": "code",
   "execution_count": 41,
   "id": "d7cd9ece",
   "metadata": {},
   "outputs": [
    {
     "data": {
      "text/plain": [
       "docplex.mp.solution.SolveSolution(obj=0,values={x2:500,x3:2000})"
      ]
     },
     "execution_count": 41,
     "metadata": {},
     "output_type": "execute_result"
    }
   ],
   "source": [
    "m.solve()"
   ]
  },
  {
   "cell_type": "code",
   "execution_count": 42,
   "id": "32bd2453",
   "metadata": {},
   "outputs": [
    {
     "name": "stdout",
     "output_type": "stream",
     "text": [
      "objective: 0.000\n",
      "  x2=500.000\n",
      "  x3=2000.000\n"
     ]
    }
   ],
   "source": [
    "m.print_solution()"
   ]
  },
  {
   "cell_type": "code",
   "execution_count": null,
   "id": "25e71ae5",
   "metadata": {},
   "outputs": [],
   "source": []
  }
 ],
 "metadata": {
  "kernelspec": {
   "display_name": "Python 3",
   "language": "python",
   "name": "python3"
  },
  "language_info": {
   "codemirror_mode": {
    "name": "ipython",
    "version": 3
   },
   "file_extension": ".py",
   "mimetype": "text/x-python",
   "name": "python",
   "nbconvert_exporter": "python",
   "pygments_lexer": "ipython3",
   "version": "3.8.8"
  }
 },
 "nbformat": 4,
 "nbformat_minor": 5
}
